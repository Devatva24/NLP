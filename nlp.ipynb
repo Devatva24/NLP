{
  "nbformat": 4,
  "nbformat_minor": 0,
  "metadata": {
    "colab": {
      "provenance": [],
      "authorship_tag": "ABX9TyPSYEBoKtOcqTjM2gyQcK83",
      "include_colab_link": true
    },
    "kernelspec": {
      "name": "python3",
      "display_name": "Python 3"
    },
    "language_info": {
      "name": "python"
    }
  },
  "cells": [
    {
      "cell_type": "markdown",
      "metadata": {
        "id": "view-in-github",
        "colab_type": "text"
      },
      "source": [
        "<a href=\"https://colab.research.google.com/github/Devatva24/NLP/blob/main/nlp.ipynb\" target=\"_parent\"><img src=\"https://colab.research.google.com/assets/colab-badge.svg\" alt=\"Open In Colab\"/></a>"
      ]
    },
    {
      "cell_type": "code",
      "execution_count": 1,
      "metadata": {
        "colab": {
          "base_uri": "https://localhost:8080/"
        },
        "id": "SefIcBSdnrYh",
        "outputId": "fc858ccc-c439-430c-c57c-b283c799d403"
      },
      "outputs": [
        {
          "output_type": "stream",
          "name": "stdout",
          "text": [
            "Requirement already satisfied: nltk in /usr/local/lib/python3.12/dist-packages (3.9.1)\n",
            "Requirement already satisfied: click in /usr/local/lib/python3.12/dist-packages (from nltk) (8.2.1)\n",
            "Requirement already satisfied: joblib in /usr/local/lib/python3.12/dist-packages (from nltk) (1.5.1)\n",
            "Requirement already satisfied: regex>=2021.8.3 in /usr/local/lib/python3.12/dist-packages (from nltk) (2024.11.6)\n",
            "Requirement already satisfied: tqdm in /usr/local/lib/python3.12/dist-packages (from nltk) (4.67.1)\n"
          ]
        }
      ],
      "source": [
        "!pip install nltk"
      ]
    },
    {
      "cell_type": "code",
      "source": [
        "paragraph = \"Modi was born and raised in Vadnagar, Bombay State (present-day Gujarat), where he completed his secondary education. He was introduced to the RSS at the age of eight, becoming a full-time worker for the organisation in Gujarat in 1971. The RSS assigned him to the BJP in 1985, and he rose through the party hierarchy, becoming general secretary in 1998. In 2001, Modi was appointed chief minister of Gujarat and elected to the legislative assembly soon after. His administration is considered complicit in the 2002 Gujarat riots and has been criticised for its management of the crisis. According to official records, a little over 1,000 people were killed, three-quarters of whom were Muslim; independent sources estimated 2,000 deaths, mostly Muslim. A Special Investigation Team appointed by the Supreme Court of India in 2012 found no evidence to initiate prosecution proceedings against him. While his policies as chief minister were credited for encouraging economic growth, his administration was criticised for failing to significantly improve health, poverty and education indices in the state.\""
      ],
      "metadata": {
        "id": "uuF2PaIcn01Q"
      },
      "execution_count": 2,
      "outputs": []
    },
    {
      "cell_type": "code",
      "source": [
        "paragraph"
      ],
      "metadata": {
        "colab": {
          "base_uri": "https://localhost:8080/",
          "height": 126
        },
        "id": "ZFK3ibAmoQrs",
        "outputId": "18a4d5a9-d661-4ac7-9f8f-1b3bd80b28d6"
      },
      "execution_count": 3,
      "outputs": [
        {
          "output_type": "execute_result",
          "data": {
            "text/plain": [
              "'Modi was born and raised in Vadnagar, Bombay State (present-day Gujarat), where he completed his secondary education. He was introduced to the RSS at the age of eight, becoming a full-time worker for the organisation in Gujarat in 1971. The RSS assigned him to the BJP in 1985, and he rose through the party hierarchy, becoming general secretary in 1998. In 2001, Modi was appointed chief minister of Gujarat and elected to the legislative assembly soon after. His administration is considered complicit in the 2002 Gujarat riots and has been criticised for its management of the crisis. According to official records, a little over 1,000 people were killed, three-quarters of whom were Muslim; independent sources estimated 2,000 deaths, mostly Muslim. A Special Investigation Team appointed by the Supreme Court of India in 2012 found no evidence to initiate prosecution proceedings against him. While his policies as chief minister were credited for encouraging economic growth, his administration was criticised for failing to significantly improve health, poverty and education indices in the state.'"
            ],
            "application/vnd.google.colaboratory.intrinsic+json": {
              "type": "string"
            }
          },
          "metadata": {},
          "execution_count": 3
        }
      ]
    },
    {
      "cell_type": "code",
      "source": [
        "import nltk\n",
        "from nltk.stem import PorterStemmer\n",
        "from nltk.corpus import stopwords"
      ],
      "metadata": {
        "id": "CPu-R3A2oa7x"
      },
      "execution_count": 4,
      "outputs": []
    },
    {
      "cell_type": "code",
      "source": [
        "#tokenization:convert the sentences to words\n",
        "nltk.download('punkt')\n",
        "nltk.download('punkt_tab') # Download punkt_tab resource\n",
        "sentences = nltk.sent_tokenize(paragraph)"
      ],
      "metadata": {
        "colab": {
          "base_uri": "https://localhost:8080/"
        },
        "id": "W4LVMwW7onrT",
        "outputId": "85736084-cf50-4b18-eb23-c9ef901e9fb7"
      },
      "execution_count": 5,
      "outputs": [
        {
          "output_type": "stream",
          "name": "stderr",
          "text": [
            "[nltk_data] Downloading package punkt to /root/nltk_data...\n",
            "[nltk_data]   Unzipping tokenizers/punkt.zip.\n",
            "[nltk_data] Downloading package punkt_tab to /root/nltk_data...\n",
            "[nltk_data]   Unzipping tokenizers/punkt_tab.zip.\n"
          ]
        }
      ]
    },
    {
      "cell_type": "code",
      "source": [
        "sentences"
      ],
      "metadata": {
        "colab": {
          "base_uri": "https://localhost:8080/"
        },
        "id": "uLJ3Gs_WpGY0",
        "outputId": "d71f8261-dc06-4478-c2a1-990cf38e8ecb"
      },
      "execution_count": 6,
      "outputs": [
        {
          "output_type": "execute_result",
          "data": {
            "text/plain": [
              "['Modi was born and raised in Vadnagar, Bombay State (present-day Gujarat), where he completed his secondary education.',\n",
              " 'He was introduced to the RSS at the age of eight, becoming a full-time worker for the organisation in Gujarat in 1971.',\n",
              " 'The RSS assigned him to the BJP in 1985, and he rose through the party hierarchy, becoming general secretary in 1998.',\n",
              " 'In 2001, Modi was appointed chief minister of Gujarat and elected to the legislative assembly soon after.',\n",
              " 'His administration is considered complicit in the 2002 Gujarat riots and has been criticised for its management of the crisis.',\n",
              " 'According to official records, a little over 1,000 people were killed, three-quarters of whom were Muslim; independent sources estimated 2,000 deaths, mostly Muslim.',\n",
              " 'A Special Investigation Team appointed by the Supreme Court of India in 2012 found no evidence to initiate prosecution proceedings against him.',\n",
              " 'While his policies as chief minister were credited for encouraging economic growth, his administration was criticised for failing to significantly improve health, poverty and education indices in the state.']"
            ]
          },
          "metadata": {},
          "execution_count": 6
        }
      ]
    },
    {
      "cell_type": "code",
      "source": [
        "type(sentences)"
      ],
      "metadata": {
        "colab": {
          "base_uri": "https://localhost:8080/"
        },
        "id": "KaCAuK4spbqz",
        "outputId": "3267a147-ca01-4299-d790-b4ffe51cffdf"
      },
      "execution_count": 7,
      "outputs": [
        {
          "output_type": "execute_result",
          "data": {
            "text/plain": [
              "list"
            ]
          },
          "metadata": {},
          "execution_count": 7
        }
      ]
    },
    {
      "cell_type": "code",
      "source": [
        "#Converts the words to the base word/ root word\n",
        "stemmer = PorterStemmer()"
      ],
      "metadata": {
        "id": "7bOZ2ohrpl0H"
      },
      "execution_count": 8,
      "outputs": []
    },
    {
      "cell_type": "code",
      "source": [
        "stemmer.stem(\"having\")"
      ],
      "metadata": {
        "colab": {
          "base_uri": "https://localhost:8080/",
          "height": 36
        },
        "id": "uz1uSG8gpzJI",
        "outputId": "c771560d-4202-4e68-c180-5a6772c4d9d5"
      },
      "execution_count": 9,
      "outputs": [
        {
          "output_type": "execute_result",
          "data": {
            "text/plain": [
              "'have'"
            ],
            "application/vnd.google.colaboratory.intrinsic+json": {
              "type": "string"
            }
          },
          "metadata": {},
          "execution_count": 9
        }
      ]
    },
    {
      "cell_type": "code",
      "source": [
        "from nltk.stem import WordNetLemmatizer"
      ],
      "metadata": {
        "id": "bVfEPhsVp3KW"
      },
      "execution_count": 10,
      "outputs": []
    },
    {
      "cell_type": "code",
      "source": [
        "import nltk\n",
        "nltk.download('wordnet')"
      ],
      "metadata": {
        "colab": {
          "base_uri": "https://localhost:8080/"
        },
        "id": "buuXXFR1qyoH",
        "outputId": "3fc34306-cad1-4e88-9acd-8aa0a9868112"
      },
      "execution_count": 11,
      "outputs": [
        {
          "output_type": "stream",
          "name": "stderr",
          "text": [
            "[nltk_data] Downloading package wordnet to /root/nltk_data...\n"
          ]
        },
        {
          "output_type": "execute_result",
          "data": {
            "text/plain": [
              "True"
            ]
          },
          "metadata": {},
          "execution_count": 11
        }
      ]
    },
    {
      "cell_type": "code",
      "source": [
        "lemmatizer = WordNetLemmatizer()"
      ],
      "metadata": {
        "id": "4llvhagLqYFV"
      },
      "execution_count": 12,
      "outputs": []
    },
    {
      "cell_type": "code",
      "source": [
        "lemmatizer.lemmatize(\"history\")"
      ],
      "metadata": {
        "colab": {
          "base_uri": "https://localhost:8080/",
          "height": 36
        },
        "id": "-VvTqanDqdFv",
        "outputId": "22c2775f-78c9-488d-bf40-4465ff801a25"
      },
      "execution_count": 13,
      "outputs": [
        {
          "output_type": "execute_result",
          "data": {
            "text/plain": [
              "'history'"
            ],
            "application/vnd.google.colaboratory.intrinsic+json": {
              "type": "string"
            }
          },
          "metadata": {},
          "execution_count": 13
        }
      ]
    },
    {
      "cell_type": "code",
      "source": [
        "# Data cleaning - since the dataset/sentences has many special characters we need to remove them\n",
        "import re # regular expressions"
      ],
      "metadata": {
        "id": "lHM0ZqvPqhY-"
      },
      "execution_count": 14,
      "outputs": []
    },
    {
      "cell_type": "code",
      "source": [
        "corpus = []\n",
        "for i in range(len(sentences)) :\n",
        "  review = re.sub('[^a-zA-Z]', ' ', sentences[i])\n",
        "  review = review.lower()\n",
        "  corpus.append(review)"
      ],
      "metadata": {
        "id": "X_GQPyr-rZZz"
      },
      "execution_count": 15,
      "outputs": []
    },
    {
      "cell_type": "code",
      "source": [
        "corpus"
      ],
      "metadata": {
        "colab": {
          "base_uri": "https://localhost:8080/"
        },
        "id": "l7Ga6_QysB3w",
        "outputId": "d53da870-fd05-4116-9476-ab4f6551bd9e"
      },
      "execution_count": 16,
      "outputs": [
        {
          "output_type": "execute_result",
          "data": {
            "text/plain": [
              "['modi was born and raised in vadnagar  bombay state  present day gujarat   where he completed his secondary education ',\n",
              " 'he was introduced to the rss at the age of eight  becoming a full time worker for the organisation in gujarat in      ',\n",
              " 'the rss assigned him to the bjp in       and he rose through the party hierarchy  becoming general secretary in      ',\n",
              " 'in       modi was appointed chief minister of gujarat and elected to the legislative assembly soon after ',\n",
              " 'his administration is considered complicit in the      gujarat riots and has been criticised for its management of the crisis ',\n",
              " 'according to official records  a little over       people were killed  three quarters of whom were muslim  independent sources estimated       deaths  mostly muslim ',\n",
              " 'a special investigation team appointed by the supreme court of india in      found no evidence to initiate prosecution proceedings against him ',\n",
              " 'while his policies as chief minister were credited for encouraging economic growth  his administration was criticised for failing to significantly improve health  poverty and education indices in the state ']"
            ]
          },
          "metadata": {},
          "execution_count": 16
        }
      ]
    },
    {
      "cell_type": "code",
      "source": [
        "import nltk\n",
        "nltk.download('stopwords')"
      ],
      "metadata": {
        "colab": {
          "base_uri": "https://localhost:8080/"
        },
        "id": "JEdXB0mftIVH",
        "outputId": "b82a787a-1687-4421-fd8c-4c4a9e74a609"
      },
      "execution_count": 17,
      "outputs": [
        {
          "output_type": "stream",
          "name": "stderr",
          "text": [
            "[nltk_data] Downloading package stopwords to /root/nltk_data...\n",
            "[nltk_data]   Unzipping corpora/stopwords.zip.\n"
          ]
        },
        {
          "output_type": "execute_result",
          "data": {
            "text/plain": [
              "True"
            ]
          },
          "metadata": {},
          "execution_count": 17
        }
      ]
    },
    {
      "cell_type": "code",
      "source": [
        "#stemming\n",
        "for i in corpus :\n",
        "  words = nltk.word_tokenize(i)\n",
        "  for word in words :\n",
        "    if word not in set(stopwords.words('english')):\n",
        "      print(lemmatizer.lemmatize(word))"
      ],
      "metadata": {
        "colab": {
          "base_uri": "https://localhost:8080/"
        },
        "id": "IdqfJC8ssDBZ",
        "outputId": "1fc7c168-d5f3-4551-dcbe-7fb02ea4e80d"
      },
      "execution_count": 18,
      "outputs": [
        {
          "output_type": "stream",
          "name": "stdout",
          "text": [
            "modi\n",
            "born\n",
            "raised\n",
            "vadnagar\n",
            "bombay\n",
            "state\n",
            "present\n",
            "day\n",
            "gujarat\n",
            "completed\n",
            "secondary\n",
            "education\n",
            "introduced\n",
            "rss\n",
            "age\n",
            "eight\n",
            "becoming\n",
            "full\n",
            "time\n",
            "worker\n",
            "organisation\n",
            "gujarat\n",
            "rss\n",
            "assigned\n",
            "bjp\n",
            "rose\n",
            "party\n",
            "hierarchy\n",
            "becoming\n",
            "general\n",
            "secretary\n",
            "modi\n",
            "appointed\n",
            "chief\n",
            "minister\n",
            "gujarat\n",
            "elected\n",
            "legislative\n",
            "assembly\n",
            "soon\n",
            "administration\n",
            "considered\n",
            "complicit\n",
            "gujarat\n",
            "riot\n",
            "criticised\n",
            "management\n",
            "crisis\n",
            "according\n",
            "official\n",
            "record\n",
            "little\n",
            "people\n",
            "killed\n",
            "three\n",
            "quarter\n",
            "muslim\n",
            "independent\n",
            "source\n",
            "estimated\n",
            "death\n",
            "mostly\n",
            "muslim\n",
            "special\n",
            "investigation\n",
            "team\n",
            "appointed\n",
            "supreme\n",
            "court\n",
            "india\n",
            "found\n",
            "evidence\n",
            "initiate\n",
            "prosecution\n",
            "proceeding\n",
            "policy\n",
            "chief\n",
            "minister\n",
            "credited\n",
            "encouraging\n",
            "economic\n",
            "growth\n",
            "administration\n",
            "criticised\n",
            "failing\n",
            "significantly\n",
            "improve\n",
            "health\n",
            "poverty\n",
            "education\n",
            "index\n",
            "state\n"
          ]
        }
      ]
    },
    {
      "cell_type": "code",
      "source": [
        "from sklearn.feature_extraction.text import CountVectorizer\n",
        "cv = CountVectorizer(binary = True)"
      ],
      "metadata": {
        "id": "aLSoUOW1s3RL"
      },
      "execution_count": 19,
      "outputs": []
    },
    {
      "cell_type": "code",
      "source": [
        "X = cv.fit_transform(corpus)"
      ],
      "metadata": {
        "id": "S8BxtTy3t-NN"
      },
      "execution_count": 20,
      "outputs": []
    },
    {
      "cell_type": "code",
      "source": [
        "cv.vocabulary_"
      ],
      "metadata": {
        "colab": {
          "base_uri": "https://localhost:8080/"
        },
        "id": "Y0DhTVFNuHxI",
        "outputId": "3bd5e8e0-ccb8-4eaf-cee9-6b57012b1db8"
      },
      "execution_count": 21,
      "outputs": [
        {
          "output_type": "execute_result",
          "data": {
            "text/plain": [
              "{'modi': 62,\n",
              " 'was': 98,\n",
              " 'born': 15,\n",
              " 'and': 5,\n",
              " 'raised': 78,\n",
              " 'in': 48,\n",
              " 'vadnagar': 97,\n",
              " 'bombay': 14,\n",
              " 'state': 89,\n",
              " 'present': 74,\n",
              " 'day': 25,\n",
              " 'gujarat': 40,\n",
              " 'where': 100,\n",
              " 'he': 42,\n",
              " 'completed': 18,\n",
              " 'his': 46,\n",
              " 'secondary': 83,\n",
              " 'education': 28,\n",
              " 'introduced': 53,\n",
              " 'to': 96,\n",
              " 'the': 92,\n",
              " 'rss': 82,\n",
              " 'at': 10,\n",
              " 'age': 4,\n",
              " 'of': 66,\n",
              " 'eight': 29,\n",
              " 'becoming': 11,\n",
              " 'full': 37,\n",
              " 'time': 95,\n",
              " 'worker': 103,\n",
              " 'for': 35,\n",
              " 'organisation': 68,\n",
              " 'assigned': 9,\n",
              " 'him': 45,\n",
              " 'bjp': 13,\n",
              " 'rose': 81,\n",
              " 'through': 94,\n",
              " 'party': 70,\n",
              " 'hierarchy': 44,\n",
              " 'general': 38,\n",
              " 'secretary': 84,\n",
              " 'appointed': 6,\n",
              " 'chief': 17,\n",
              " 'minister': 61,\n",
              " 'elected': 30,\n",
              " 'legislative': 58,\n",
              " 'assembly': 8,\n",
              " 'soon': 86,\n",
              " 'after': 2,\n",
              " 'administration': 1,\n",
              " 'is': 55,\n",
              " 'considered': 20,\n",
              " 'complicit': 19,\n",
              " 'riots': 80,\n",
              " 'has': 41,\n",
              " 'been': 12,\n",
              " 'criticised': 24,\n",
              " 'its': 56,\n",
              " 'management': 60,\n",
              " 'crisis': 23,\n",
              " 'according': 0,\n",
              " 'official': 67,\n",
              " 'records': 79,\n",
              " 'little': 59,\n",
              " 'over': 69,\n",
              " 'people': 71,\n",
              " 'were': 99,\n",
              " 'killed': 57,\n",
              " 'three': 93,\n",
              " 'quarters': 77,\n",
              " 'whom': 102,\n",
              " 'muslim': 64,\n",
              " 'independent': 49,\n",
              " 'sources': 87,\n",
              " 'estimated': 32,\n",
              " 'deaths': 26,\n",
              " 'mostly': 63,\n",
              " 'special': 88,\n",
              " 'investigation': 54,\n",
              " 'team': 91,\n",
              " 'by': 16,\n",
              " 'supreme': 90,\n",
              " 'court': 21,\n",
              " 'india': 50,\n",
              " 'found': 36,\n",
              " 'no': 65,\n",
              " 'evidence': 33,\n",
              " 'initiate': 52,\n",
              " 'prosecution': 76,\n",
              " 'proceedings': 75,\n",
              " 'against': 3,\n",
              " 'while': 101,\n",
              " 'policies': 72,\n",
              " 'as': 7,\n",
              " 'credited': 22,\n",
              " 'encouraging': 31,\n",
              " 'economic': 27,\n",
              " 'growth': 39,\n",
              " 'failing': 34,\n",
              " 'significantly': 85,\n",
              " 'improve': 47,\n",
              " 'health': 43,\n",
              " 'poverty': 73,\n",
              " 'indices': 51}"
            ]
          },
          "metadata": {},
          "execution_count": 21
        }
      ]
    },
    {
      "cell_type": "code",
      "source": [
        "corpus[0]"
      ],
      "metadata": {
        "colab": {
          "base_uri": "https://localhost:8080/",
          "height": 36
        },
        "id": "TYzs668buSFE",
        "outputId": "1f0346b1-646e-4bb3-b20a-d10c564c853e"
      },
      "execution_count": 22,
      "outputs": [
        {
          "output_type": "execute_result",
          "data": {
            "text/plain": [
              "'modi was born and raised in vadnagar  bombay state  present day gujarat   where he completed his secondary education '"
            ],
            "application/vnd.google.colaboratory.intrinsic+json": {
              "type": "string"
            }
          },
          "metadata": {},
          "execution_count": 22
        }
      ]
    },
    {
      "cell_type": "code",
      "source": [
        "X[1].toarray()"
      ],
      "metadata": {
        "colab": {
          "base_uri": "https://localhost:8080/"
        },
        "id": "y_nKaFwwudrp",
        "outputId": "ebf27e9e-8321-4513-f00b-44d562efd02f"
      },
      "execution_count": 23,
      "outputs": [
        {
          "output_type": "execute_result",
          "data": {
            "text/plain": [
              "array([[0, 0, 0, 0, 1, 0, 0, 0, 0, 0, 1, 1, 0, 0, 0, 0, 0, 0, 0, 0, 0, 0,\n",
              "        0, 0, 0, 0, 0, 0, 0, 1, 0, 0, 0, 0, 0, 1, 0, 1, 0, 0, 1, 0, 1, 0,\n",
              "        0, 0, 0, 0, 1, 0, 0, 0, 0, 1, 0, 0, 0, 0, 0, 0, 0, 0, 0, 0, 0, 0,\n",
              "        1, 0, 1, 0, 0, 0, 0, 0, 0, 0, 0, 0, 0, 0, 0, 0, 1, 0, 0, 0, 0, 0,\n",
              "        0, 0, 0, 0, 1, 0, 0, 1, 1, 0, 1, 0, 0, 0, 0, 1]])"
            ]
          },
          "metadata": {},
          "execution_count": 23
        }
      ]
    },
    {
      "cell_type": "code",
      "source": [
        "#Apply stopwords and lemmatize\n",
        "corpus = []\n",
        "for i in range(len(sentences)) :\n",
        "  review = re.sub('[^a-zA-Z]', ' ', sentences[i])\n",
        "  review = review.lower()\n",
        "  review = review.split()\n",
        "  reviewe = [lemmatizer.lemmatize(word) for word in review if not word in set(stopwords.words('english'))]\n",
        "  review = ' '.join(review)\n",
        "  corpus.append(review)"
      ],
      "metadata": {
        "id": "vGGX3dkluft5"
      },
      "execution_count": 24,
      "outputs": []
    },
    {
      "cell_type": "code",
      "source": [
        "corpus"
      ],
      "metadata": {
        "colab": {
          "base_uri": "https://localhost:8080/"
        },
        "id": "SDVpV0d-120a",
        "outputId": "7e0c7792-2656-49df-e8ce-b06a0331f51b"
      },
      "execution_count": 25,
      "outputs": [
        {
          "output_type": "execute_result",
          "data": {
            "text/plain": [
              "['modi was born and raised in vadnagar bombay state present day gujarat where he completed his secondary education',\n",
              " 'he was introduced to the rss at the age of eight becoming a full time worker for the organisation in gujarat in',\n",
              " 'the rss assigned him to the bjp in and he rose through the party hierarchy becoming general secretary in',\n",
              " 'in modi was appointed chief minister of gujarat and elected to the legislative assembly soon after',\n",
              " 'his administration is considered complicit in the gujarat riots and has been criticised for its management of the crisis',\n",
              " 'according to official records a little over people were killed three quarters of whom were muslim independent sources estimated deaths mostly muslim',\n",
              " 'a special investigation team appointed by the supreme court of india in found no evidence to initiate prosecution proceedings against him',\n",
              " 'while his policies as chief minister were credited for encouraging economic growth his administration was criticised for failing to significantly improve health poverty and education indices in the state']"
            ]
          },
          "metadata": {},
          "execution_count": 25
        }
      ]
    },
    {
      "cell_type": "code",
      "source": [
        "#Bag of words\n",
        "from sklearn.feature_extraction.text import CountVectorizer\n",
        "# cv = CountVectorizer(binary = True, ngram_range= (3, 3)) # ngram (3, 3) - trigram : 3 words at once\n",
        "cv = CountVectorizer(binary = True, ngram_range= (2, 3)) # both bigram and trigram"
      ],
      "metadata": {
        "id": "IogYio-c139a"
      },
      "execution_count": 35,
      "outputs": []
    },
    {
      "cell_type": "code",
      "source": [
        "x = cv.fit_transform(corpus)"
      ],
      "metadata": {
        "id": "xcVHnEWP2UpE"
      },
      "execution_count": 36,
      "outputs": []
    },
    {
      "cell_type": "code",
      "source": [
        "cv.vocabulary_"
      ],
      "metadata": {
        "colab": {
          "base_uri": "https://localhost:8080/"
        },
        "id": "6xYNXlhu2XeK",
        "outputId": "c5132fd9-25fe-45b0-e810-13d4d444b05c"
      },
      "execution_count": 37,
      "outputs": [
        {
          "output_type": "execute_result",
          "data": {
            "text/plain": [
              "{'modi was': 168,\n",
              " 'was born': 274,\n",
              " 'born and': 41,\n",
              " 'and raised': 17,\n",
              " 'raised in': 208,\n",
              " 'in vadnagar': 138,\n",
              " 'vadnagar bombay': 270,\n",
              " 'bombay state': 39,\n",
              " 'state present': 229,\n",
              " 'present day': 200,\n",
              " 'day gujarat': 61,\n",
              " 'gujarat where': 102,\n",
              " 'where he': 286,\n",
              " 'he completed': 106,\n",
              " 'completed his': 48,\n",
              " 'his secondary': 123,\n",
              " 'secondary education': 220,\n",
              " 'modi was born': 170,\n",
              " 'was born and': 275,\n",
              " 'born and raised': 42,\n",
              " 'and raised in': 18,\n",
              " 'raised in vadnagar': 209,\n",
              " 'in vadnagar bombay': 139,\n",
              " 'vadnagar bombay state': 271,\n",
              " 'bombay state present': 40,\n",
              " 'state present day': 230,\n",
              " 'present day gujarat': 201,\n",
              " 'day gujarat where': 62,\n",
              " 'gujarat where he': 103,\n",
              " 'where he completed': 287,\n",
              " 'he completed his': 107,\n",
              " 'completed his secondary': 49,\n",
              " 'his secondary education': 124,\n",
              " 'he was': 110,\n",
              " 'was introduced': 278,\n",
              " 'introduced to': 148,\n",
              " 'to the': 266,\n",
              " 'the rss': 248,\n",
              " 'rss at': 218,\n",
              " 'at the': 29,\n",
              " 'the age': 235,\n",
              " 'age of': 7,\n",
              " 'of eight': 176,\n",
              " 'eight becoming': 69,\n",
              " 'becoming full': 31,\n",
              " 'full time': 91,\n",
              " 'time worker': 258,\n",
              " 'worker for': 292,\n",
              " 'for the': 87,\n",
              " 'the organisation': 244,\n",
              " 'organisation in': 188,\n",
              " 'in gujarat': 131,\n",
              " 'gujarat in': 99,\n",
              " 'he was introduced': 111,\n",
              " 'was introduced to': 279,\n",
              " 'introduced to the': 149,\n",
              " 'to the rss': 269,\n",
              " 'the rss at': 250,\n",
              " 'rss at the': 219,\n",
              " 'at the age': 30,\n",
              " 'the age of': 236,\n",
              " 'age of eight': 8,\n",
              " 'of eight becoming': 177,\n",
              " 'eight becoming full': 70,\n",
              " 'becoming full time': 32,\n",
              " 'full time worker': 92,\n",
              " 'time worker for': 259,\n",
              " 'worker for the': 293,\n",
              " 'for the organisation': 88,\n",
              " 'the organisation in': 245,\n",
              " 'organisation in gujarat': 189,\n",
              " 'in gujarat in': 132,\n",
              " 'rss assigned': 216,\n",
              " 'assigned him': 27,\n",
              " 'him to': 116,\n",
              " 'the bjp': 237,\n",
              " 'bjp in': 37,\n",
              " 'in and': 127,\n",
              " 'and he': 15,\n",
              " 'he rose': 108,\n",
              " 'rose through': 214,\n",
              " 'through the': 256,\n",
              " 'the party': 246,\n",
              " 'party hierarchy': 192,\n",
              " 'hierarchy becoming': 114,\n",
              " 'becoming general': 33,\n",
              " 'general secretary': 93,\n",
              " 'secretary in': 221,\n",
              " 'the rss assigned': 249,\n",
              " 'rss assigned him': 217,\n",
              " 'assigned him to': 28,\n",
              " 'him to the': 117,\n",
              " 'to the bjp': 267,\n",
              " 'the bjp in': 238,\n",
              " 'bjp in and': 38,\n",
              " 'in and he': 128,\n",
              " 'and he rose': 16,\n",
              " 'he rose through': 109,\n",
              " 'rose through the': 215,\n",
              " 'through the party': 257,\n",
              " 'the party hierarchy': 247,\n",
              " 'party hierarchy becoming': 193,\n",
              " 'hierarchy becoming general': 115,\n",
              " 'becoming general secretary': 34,\n",
              " 'general secretary in': 94,\n",
              " 'in modi': 133,\n",
              " 'was appointed': 272,\n",
              " 'appointed chief': 21,\n",
              " 'chief minister': 45,\n",
              " 'minister of': 164,\n",
              " 'of gujarat': 178,\n",
              " 'gujarat and': 97,\n",
              " 'and elected': 11,\n",
              " 'elected to': 71,\n",
              " 'the legislative': 242,\n",
              " 'legislative assembly': 158,\n",
              " 'assembly soon': 25,\n",
              " 'soon after': 224,\n",
              " 'in modi was': 134,\n",
              " 'modi was appointed': 169,\n",
              " 'was appointed chief': 273,\n",
              " 'appointed chief minister': 22,\n",
              " 'chief minister of': 46,\n",
              " 'minister of gujarat': 165,\n",
              " 'of gujarat and': 179,\n",
              " 'gujarat and elected': 98,\n",
              " 'and elected to': 12,\n",
              " 'elected to the': 72,\n",
              " 'to the legislative': 268,\n",
              " 'the legislative assembly': 243,\n",
              " 'legislative assembly soon': 159,\n",
              " 'assembly soon after': 26,\n",
              " 'his administration': 118,\n",
              " 'administration is': 2,\n",
              " 'is considered': 152,\n",
              " 'considered complicit': 52,\n",
              " 'complicit in': 50,\n",
              " 'in the': 135,\n",
              " 'the gujarat': 240,\n",
              " 'gujarat riots': 100,\n",
              " 'riots and': 212,\n",
              " 'and has': 13,\n",
              " 'has been': 104,\n",
              " 'been criticised': 35,\n",
              " 'criticised for': 58,\n",
              " 'for its': 85,\n",
              " 'its management': 154,\n",
              " 'management of': 162,\n",
              " 'of the': 182,\n",
              " 'the crisis': 239,\n",
              " 'his administration is': 119,\n",
              " 'administration is considered': 3,\n",
              " 'is considered complicit': 153,\n",
              " 'considered complicit in': 53,\n",
              " 'complicit in the': 51,\n",
              " 'in the gujarat': 136,\n",
              " 'the gujarat riots': 241,\n",
              " 'gujarat riots and': 101,\n",
              " 'riots and has': 213,\n",
              " 'and has been': 14,\n",
              " 'has been criticised': 105,\n",
              " 'been criticised for': 36,\n",
              " 'criticised for its': 60,\n",
              " 'for its management': 86,\n",
              " 'its management of': 155,\n",
              " 'management of the': 163,\n",
              " 'of the crisis': 183,\n",
              " 'according to': 0,\n",
              " 'to official': 262,\n",
              " 'official records': 186,\n",
              " 'records little': 210,\n",
              " 'little over': 160,\n",
              " 'over people': 190,\n",
              " 'people were': 194,\n",
              " 'were killed': 282,\n",
              " 'killed three': 156,\n",
              " 'three quarters': 254,\n",
              " 'quarters of': 206,\n",
              " 'of whom': 184,\n",
              " 'whom were': 290,\n",
              " 'were muslim': 284,\n",
              " 'muslim independent': 172,\n",
              " 'independent sources': 140,\n",
              " 'sources estimated': 225,\n",
              " 'estimated deaths': 75,\n",
              " 'deaths mostly': 63,\n",
              " 'mostly muslim': 171,\n",
              " 'according to official': 1,\n",
              " 'to official records': 263,\n",
              " 'official records little': 187,\n",
              " 'records little over': 211,\n",
              " 'little over people': 161,\n",
              " 'over people were': 191,\n",
              " 'people were killed': 195,\n",
              " 'were killed three': 283,\n",
              " 'killed three quarters': 157,\n",
              " 'three quarters of': 255,\n",
              " 'quarters of whom': 207,\n",
              " 'of whom were': 185,\n",
              " 'whom were muslim': 291,\n",
              " 'were muslim independent': 285,\n",
              " 'muslim independent sources': 173,\n",
              " 'independent sources estimated': 141,\n",
              " 'sources estimated deaths': 226,\n",
              " 'estimated deaths mostly': 76,\n",
              " 'deaths mostly muslim': 64,\n",
              " 'special investigation': 227,\n",
              " 'investigation team': 150,\n",
              " 'team appointed': 233,\n",
              " 'appointed by': 19,\n",
              " 'by the': 43,\n",
              " 'the supreme': 252,\n",
              " 'supreme court': 231,\n",
              " 'court of': 54,\n",
              " 'of india': 180,\n",
              " 'india in': 142,\n",
              " 'in found': 129,\n",
              " 'found no': 89,\n",
              " 'no evidence': 174,\n",
              " 'evidence to': 77,\n",
              " 'to initiate': 260,\n",
              " 'initiate prosecution': 146,\n",
              " 'prosecution proceedings': 204,\n",
              " 'proceedings against': 202,\n",
              " 'against him': 6,\n",
              " 'special investigation team': 228,\n",
              " 'investigation team appointed': 151,\n",
              " 'team appointed by': 234,\n",
              " 'appointed by the': 20,\n",
              " 'by the supreme': 44,\n",
              " 'the supreme court': 253,\n",
              " 'supreme court of': 232,\n",
              " 'court of india': 55,\n",
              " 'of india in': 181,\n",
              " 'india in found': 143,\n",
              " 'in found no': 130,\n",
              " 'found no evidence': 90,\n",
              " 'no evidence to': 175,\n",
              " 'evidence to initiate': 78,\n",
              " 'to initiate prosecution': 261,\n",
              " 'initiate prosecution proceedings': 147,\n",
              " 'prosecution proceedings against': 205,\n",
              " 'proceedings against him': 203,\n",
              " 'while his': 288,\n",
              " 'his policies': 121,\n",
              " 'policies as': 196,\n",
              " 'as chief': 23,\n",
              " 'minister were': 166,\n",
              " 'were credited': 280,\n",
              " 'credited for': 56,\n",
              " 'for encouraging': 81,\n",
              " 'encouraging economic': 73,\n",
              " 'economic growth': 65,\n",
              " 'growth his': 95,\n",
              " 'administration was': 4,\n",
              " 'was criticised': 276,\n",
              " 'for failing': 83,\n",
              " 'failing to': 79,\n",
              " 'to significantly': 264,\n",
              " 'significantly improve': 222,\n",
              " 'improve health': 125,\n",
              " 'health poverty': 112,\n",
              " 'poverty and': 198,\n",
              " 'and education': 9,\n",
              " 'education indices': 67,\n",
              " 'indices in': 144,\n",
              " 'the state': 251,\n",
              " 'while his policies': 289,\n",
              " 'his policies as': 122,\n",
              " 'policies as chief': 197,\n",
              " 'as chief minister': 24,\n",
              " 'chief minister were': 47,\n",
              " 'minister were credited': 167,\n",
              " 'were credited for': 281,\n",
              " 'credited for encouraging': 57,\n",
              " 'for encouraging economic': 82,\n",
              " 'encouraging economic growth': 74,\n",
              " 'economic growth his': 66,\n",
              " 'growth his administration': 96,\n",
              " 'his administration was': 120,\n",
              " 'administration was criticised': 5,\n",
              " 'was criticised for': 277,\n",
              " 'criticised for failing': 59,\n",
              " 'for failing to': 84,\n",
              " 'failing to significantly': 80,\n",
              " 'to significantly improve': 265,\n",
              " 'significantly improve health': 223,\n",
              " 'improve health poverty': 126,\n",
              " 'health poverty and': 113,\n",
              " 'poverty and education': 199,\n",
              " 'and education indices': 10,\n",
              " 'education indices in': 68,\n",
              " 'indices in the': 145,\n",
              " 'in the state': 137}"
            ]
          },
          "metadata": {},
          "execution_count": 37
        }
      ]
    },
    {
      "cell_type": "code",
      "source": [
        "# TF-IDF\n",
        "from sklearn.feature_extraction.text import TfidfVectorizer\n",
        "cv = TfidfVectorizer() # ngram_range = (3, 3) : trigram ; max_feature = 3 : consider features which are present at top 3\n",
        "x = cv.fit_transform(corpus)"
      ],
      "metadata": {
        "id": "LhGV-31M2Ywv"
      },
      "execution_count": 38,
      "outputs": []
    },
    {
      "cell_type": "code",
      "source": [
        "corpus[0]"
      ],
      "metadata": {
        "colab": {
          "base_uri": "https://localhost:8080/",
          "height": 36
        },
        "id": "h6JQvZoW3OKA",
        "outputId": "ad297c81-9afc-4a9b-ab16-b63a95090b0f"
      },
      "execution_count": 39,
      "outputs": [
        {
          "output_type": "execute_result",
          "data": {
            "text/plain": [
              "'modi was born and raised in vadnagar bombay state present day gujarat where he completed his secondary education'"
            ],
            "application/vnd.google.colaboratory.intrinsic+json": {
              "type": "string"
            }
          },
          "metadata": {},
          "execution_count": 39
        }
      ]
    },
    {
      "cell_type": "code",
      "source": [
        "x[0].toarray()"
      ],
      "metadata": {
        "colab": {
          "base_uri": "https://localhost:8080/"
        },
        "id": "3xMkOeel3QnS",
        "outputId": "310b8085-323a-4203-fed9-4c89110fb24d"
      },
      "execution_count": 41,
      "outputs": [
        {
          "output_type": "execute_result",
          "data": {
            "text/plain": [
              "array([[0.        , 0.        , 0.        , 0.        , 0.        ,\n",
              "        0.15291979, 0.        , 0.        , 0.        , 0.        ,\n",
              "        0.        , 0.        , 0.        , 0.        , 0.27245286,\n",
              "        0.27245286, 0.        , 0.        , 0.27245286, 0.        ,\n",
              "        0.        , 0.        , 0.        , 0.        , 0.        ,\n",
              "        0.27245286, 0.        , 0.        , 0.22833676, 0.        ,\n",
              "        0.        , 0.        , 0.        , 0.        , 0.        ,\n",
              "        0.        , 0.        , 0.        , 0.        , 0.        ,\n",
              "        0.17275705, 0.        , 0.19703589, 0.        , 0.        ,\n",
              "        0.        , 0.19703589, 0.        , 0.12161892, 0.        ,\n",
              "        0.        , 0.        , 0.        , 0.        , 0.        ,\n",
              "        0.        , 0.        , 0.        , 0.        , 0.        ,\n",
              "        0.        , 0.        , 0.22833676, 0.        , 0.        ,\n",
              "        0.        , 0.        , 0.        , 0.        , 0.        ,\n",
              "        0.        , 0.        , 0.        , 0.        , 0.27245286,\n",
              "        0.        , 0.        , 0.        , 0.27245286, 0.        ,\n",
              "        0.        , 0.        , 0.        , 0.27245286, 0.        ,\n",
              "        0.        , 0.        , 0.        , 0.        , 0.22833676,\n",
              "        0.        , 0.        , 0.        , 0.        , 0.        ,\n",
              "        0.        , 0.        , 0.27245286, 0.17275705, 0.        ,\n",
              "        0.27245286, 0.        , 0.        , 0.        ]])"
            ]
          },
          "metadata": {},
          "execution_count": 41
        }
      ]
    },
    {
      "cell_type": "code",
      "source": [],
      "metadata": {
        "id": "DJy6F73T3T-W"
      },
      "execution_count": null,
      "outputs": []
    }
  ]
}